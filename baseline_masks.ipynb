{
  "nbformat": 4,
  "nbformat_minor": 0,
  "metadata": {
    "colab": {
      "name": "RZD_baseline.ipynb",
      "provenance": []
    },
    "kernelspec": {
      "name": "python3",
      "display_name": "Python 3"
    },
    "language_info": {
      "name": "python"
    }
  },
  "cells": [
    {
      "cell_type": "code",
      "execution_count": null,
      "metadata": {
        "id": "Vl9Xg90HLd2-"
      },
      "outputs": [],
      "source": [
        "import torchvision.transforms as transforms\n",
        "import cv2\n",
        "import numpy as np\n",
        "import numpy\n",
        "import torch\n",
        "\n",
        "#from label_color_map import label_color_map as label_map"
      ]
    },
    {
      "cell_type": "code",
      "source": [
        "transform = transforms.Compose([\n",
        "    transforms.ToTensor(),\n",
        "    transforms.Normalize(mean=[0.485, 0.456, 0.406],\n",
        "                         std=[0.229, 0.224, 0.225])\n",
        "])"
      ],
      "metadata": {
        "id": "FU_ltSF3Ln3x"
      },
      "execution_count": null,
      "outputs": []
    },
    {
      "cell_type": "code",
      "source": [
        "def get_segment_labels(image, model, device):\n",
        "    # transform the image to tensor and load into computation device\n",
        "    image = transform(image).to(device)\n",
        "    image = image.unsqueeze(0) # add a batch dimension\n",
        "    outputs = model(image)\n",
        "    # uncomment the following lines for more info\n",
        "    # print(type(outputs))\n",
        "    # print(outputs['out'].shape)\n",
        "    # print(outputs)\n",
        "    return outputs"
      ],
      "metadata": {
        "id": "z270aJLFLn58"
      },
      "execution_count": null,
      "outputs": []
    },
    {
      "cell_type": "code",
      "source": [
        "def draw_segmentation_map(outputs):\n",
        "    labels = torch.argmax(outputs.squeeze(), dim=0).detach().cpu().numpy()\n",
        "    red_map = np.zeros_like(labels).astype(np.uint8)\n",
        "    green_map = np.zeros_like(labels).astype(np.uint8)\n",
        "    blue_map = np.zeros_like(labels).astype(np.uint8)\n",
        "    \n",
        "    for label_num in range(0, len(label_map)):\n",
        "        index = labels == label_num\n",
        "        red_map[index] = np.array(label_map)[label_num, 0]\n",
        "        green_map[index] = np.array(label_map)[label_num, 1]\n",
        "        blue_map[index] = np.array(label_map)[label_num, 2]\n",
        "        \n",
        "    segmented_image = np.stack([red_map, green_map, blue_map], axis=2)\n",
        "    return segmented_image"
      ],
      "metadata": {
        "id": "CavYfhihLn8Q"
      },
      "execution_count": null,
      "outputs": []
    },
    {
      "cell_type": "code",
      "source": [
        "def image_overlay(image, segmented_image):\n",
        "    alpha = 0.6 # how much transparency to apply\n",
        "    beta = 1 - alpha # alpha + beta should equal 1\n",
        "    gamma = 0 # scalar added to each sum\n",
        "    image = np.array(image)\n",
        "    image = cv2.cvtColor(image, cv2.COLOR_RGB2BGR)\n",
        "    segmented_image = cv2.cvtColor(segmented_image, cv2.COLOR_RGB2BGR)\n",
        "    cv2.addWeighted(segmented_image, alpha, image, beta, gamma, image)\n",
        "    return image"
      ],
      "metadata": {
        "id": "5JkD8M24MulA"
      },
      "execution_count": null,
      "outputs": []
    },
    {
      "cell_type": "code",
      "source": [
        ""
      ],
      "metadata": {
        "id": "Zg0U-IHfMwVG"
      },
      "execution_count": null,
      "outputs": []
    },
    {
      "cell_type": "code",
      "source": [
        "import torchvision\n",
        "import numpy\n",
        "import torch\n",
        "import argparse\n",
        "import cv2\n",
        "from PIL import Image"
      ],
      "metadata": {
        "id": "RTn0sC_rMyb2"
      },
      "execution_count": null,
      "outputs": []
    },
    {
      "cell_type": "code",
      "source": [
        "parser = argparse.ArgumentParser()\n",
        "parser.add_argument('-i', '--input', help='path to input image/video')\n",
        "args = vars(parser.parse_args())"
      ],
      "metadata": {
        "colab": {
          "base_uri": "https://localhost:8080/",
          "height": 188
        },
        "id": "CJKP0JKONKXv",
        "outputId": "06ffb4e2-567d-479c-8412-8b6cd5778011"
      },
      "execution_count": null,
      "outputs": [
        {
          "output_type": "stream",
          "name": "stderr",
          "text": [
            "usage: ipykernel_launcher.py [-h] [-i INPUT]\n",
            "ipykernel_launcher.py: error: unrecognized arguments: -f /root/.local/share/jupyter/runtime/kernel-0e7972fd-2aeb-40d2-96a0-d478d61f8955.json\n"
          ]
        },
        {
          "output_type": "error",
          "ename": "SystemExit",
          "evalue": "ignored",
          "traceback": [
            "An exception has occurred, use %tb to see the full traceback.\n",
            "\u001b[0;31mSystemExit\u001b[0m\u001b[0;31m:\u001b[0m 2\n"
          ]
        },
        {
          "output_type": "stream",
          "name": "stderr",
          "text": [
            "/usr/local/lib/python3.7/dist-packages/IPython/core/interactiveshell.py:2890: UserWarning: To exit: use 'exit', 'quit', or Ctrl-D.\n",
            "  warn(\"To exit: use 'exit', 'quit', or Ctrl-D.\", stacklevel=1)\n"
          ]
        }
      ]
    },
    {
      "cell_type": "code",
      "source": [
        "model = torchvision.models.segmentation.fcn_resnet50(pretrained=True)\n",
        "# set computation device\n",
        "device = torch.device('cuda' if torch.cuda.is_available() else 'cpu')\n",
        "# model to eval() model and load onto computation devicce\n",
        "model.eval().to(device)"
      ],
      "metadata": {
        "id": "ofIC0fpkM8cJ"
      },
      "execution_count": null,
      "outputs": []
    },
    {
      "cell_type": "code",
      "source": [
        "# read the image\n",
        "image = Image.open(args['input'])\n",
        "# do forward pass and get the output dictionary\n",
        "outputs = segmentation_utils.get_segment_labels(image, model, device)\n",
        "# get the data from the `out` key\n",
        "outputs = outputs['out']\n",
        "segmented_image = segmentation_utils.draw_segmentation_map(outputs)"
      ],
      "metadata": {
        "colab": {
          "base_uri": "https://localhost:8080/",
          "height": 242
        },
        "id": "3Kw7zUKINBon",
        "outputId": "734638b4-60bb-4c54-8d4d-ac802229fb68"
      },
      "execution_count": null,
      "outputs": [
        {
          "output_type": "error",
          "ename": "NameError",
          "evalue": "ignored",
          "traceback": [
            "\u001b[0;31m---------------------------------------------------------------------------\u001b[0m",
            "\u001b[0;31mNameError\u001b[0m                                 Traceback (most recent call last)",
            "\u001b[0;32m<ipython-input-10-424a0746774a>\u001b[0m in \u001b[0;36m<module>\u001b[0;34m()\u001b[0m\n\u001b[1;32m      1\u001b[0m \u001b[0;31m# read the image\u001b[0m\u001b[0;34m\u001b[0m\u001b[0;34m\u001b[0m\u001b[0;34m\u001b[0m\u001b[0m\n\u001b[0;32m----> 2\u001b[0;31m \u001b[0mimage\u001b[0m \u001b[0;34m=\u001b[0m \u001b[0mImage\u001b[0m\u001b[0;34m.\u001b[0m\u001b[0mopen\u001b[0m\u001b[0;34m(\u001b[0m\u001b[0margs\u001b[0m\u001b[0;34m[\u001b[0m\u001b[0;34m'input'\u001b[0m\u001b[0;34m]\u001b[0m\u001b[0;34m)\u001b[0m\u001b[0;34m\u001b[0m\u001b[0;34m\u001b[0m\u001b[0m\n\u001b[0m\u001b[1;32m      3\u001b[0m \u001b[0;31m# do forward pass and get the output dictionary\u001b[0m\u001b[0;34m\u001b[0m\u001b[0;34m\u001b[0m\u001b[0;34m\u001b[0m\u001b[0m\n\u001b[1;32m      4\u001b[0m \u001b[0moutputs\u001b[0m \u001b[0;34m=\u001b[0m \u001b[0msegmentation_utils\u001b[0m\u001b[0;34m.\u001b[0m\u001b[0mget_segment_labels\u001b[0m\u001b[0;34m(\u001b[0m\u001b[0mimage\u001b[0m\u001b[0;34m,\u001b[0m \u001b[0mmodel\u001b[0m\u001b[0;34m,\u001b[0m \u001b[0mdevice\u001b[0m\u001b[0;34m)\u001b[0m\u001b[0;34m\u001b[0m\u001b[0;34m\u001b[0m\u001b[0m\n\u001b[1;32m      5\u001b[0m \u001b[0;31m# get the data from the `out` key\u001b[0m\u001b[0;34m\u001b[0m\u001b[0;34m\u001b[0m\u001b[0;34m\u001b[0m\u001b[0m\n",
            "\u001b[0;31mNameError\u001b[0m: name 'Image' is not defined"
          ]
        }
      ]
    },
    {
      "cell_type": "code",
      "source": [
        ""
      ],
      "metadata": {
        "id": "M3yJt0pVNHsr"
      },
      "execution_count": null,
      "outputs": []
    }
  ]
}